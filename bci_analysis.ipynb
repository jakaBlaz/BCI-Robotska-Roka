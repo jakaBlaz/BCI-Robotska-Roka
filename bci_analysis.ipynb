{
  "nbformat": 4,
  "nbformat_minor": 0,
  "metadata": {
    "colab": {
      "name": "bci-analysis.ipynb",
      "provenance": [],
      "collapsed_sections": [],
      "include_colab_link": true
    },
    "kernelspec": {
      "name": "python3",
      "display_name": "Python 3"
    }
  },
  "cells": [
    {
      "cell_type": "markdown",
      "metadata": {
        "id": "view-in-github",
        "colab_type": "text"
      },
      "source": [
        "<a href=\"https://colab.research.google.com/github/jakaBlaz/BCI-Robotska-Roka/blob/master/bci_analysis.ipynb\" target=\"_parent\"><img src=\"https://colab.research.google.com/assets/colab-badge.svg\" alt=\"Open In Colab\"/></a>"
      ]
    },
    {
      "cell_type": "markdown",
      "metadata": {
        "id": "qPI_DXZkY1PX",
        "colab_type": "text"
      },
      "source": [
        "##**Navodila za uporabo google colab**\n",
        "\n",
        "Levo zgoraj imate dva zavihka `+ Code` in `+ Text`. Ta prva je za dodajanje okna v katerem se izvaja Python3 koda, druga pa za dodajanje besedila. Komentarje dodajate v kodo isto kot v navadnem pythonu z `#nek komentar` za enovrstične komentarje in `'''nek več vrstični komentar pač'''` za večvrstične komentarje.\n",
        "\n",
        "\n",
        "\n"
      ]
    },
    {
      "cell_type": "markdown",
      "metadata": {
        "id": "7Ff5KMPlXXmk",
        "colab_type": "text"
      },
      "source": [
        "#####*dijak1 - napiši svoje ime*"
      ]
    },
    {
      "cell_type": "code",
      "metadata": {
        "id": "FZpM9qHGXY6i",
        "colab_type": "code",
        "colab": {}
      },
      "source": [
        "#dijak 1 tukaj pišeš svojo kodo"
      ],
      "execution_count": 0,
      "outputs": []
    },
    {
      "cell_type": "markdown",
      "metadata": {
        "id": "Ipdu1MhAXZuM",
        "colab_type": "text"
      },
      "source": [
        "#####*dijak2 - napiši svoje ime*"
      ]
    },
    {
      "cell_type": "code",
      "metadata": {
        "id": "GWvK1ovBXbIz",
        "colab_type": "code",
        "colab": {}
      },
      "source": [
        "#dijak 2 tukaj pišeš svojo kodo"
      ],
      "execution_count": 0,
      "outputs": []
    },
    {
      "cell_type": "markdown",
      "metadata": {
        "id": "zAaU0QaZYXLv",
        "colab_type": "text"
      },
      "source": [
        "#####*dijak3 - napiši svoje ime*"
      ]
    },
    {
      "cell_type": "code",
      "metadata": {
        "id": "EnUHrpJPYZSr",
        "colab_type": "code",
        "colab": {}
      },
      "source": [
        "#dijak 3 tukaj pišeš svojo kodo"
      ],
      "execution_count": 0,
      "outputs": []
    },
    {
      "cell_type": "markdown",
      "metadata": {
        "id": "TyYti_fBYdW4",
        "colab_type": "text"
      },
      "source": [
        "#####*dijak N - napiši svoje ime*"
      ]
    },
    {
      "cell_type": "code",
      "metadata": {
        "id": "rzBbcp0BYj5p",
        "colab_type": "code",
        "colab": {}
      },
      "source": [
        "#n-ti dijak tukaj pišeš kodo"
      ],
      "execution_count": 0,
      "outputs": []
    },
    {
      "cell_type": "markdown",
      "metadata": {
        "id": "gY-eAq9TXea8",
        "colab_type": "text"
      },
      "source": [
        "###**main**\n",
        "*   *tukaj dodate svojo kodo, ko dela*\n",
        "*   *če hočeš da drugi vidijo tvoje dodatke shraniš s Ctrl + S in potrdiš s klikom 'Yes'*\n",
        "*   *skupno razhroščevanje ;)*\n",
        "*   *main kodo po srečanju damo v .py skripto in dodamo v git*\n",
        "\n",
        "\n"
      ]
    },
    {
      "cell_type": "code",
      "metadata": {
        "id": "B_itwRkfXffM",
        "colab_type": "code",
        "colab": {}
      },
      "source": [
        "# glavna BCI koda\n"
      ],
      "execution_count": 0,
      "outputs": []
    },
    {
      "cell_type": "code",
      "metadata": {
        "id": "ZDzkoUGxc6H8",
        "colab_type": "code",
        "colab": {}
      },
      "source": [
        ""
      ],
      "execution_count": 0,
      "outputs": []
    }
  ]
}